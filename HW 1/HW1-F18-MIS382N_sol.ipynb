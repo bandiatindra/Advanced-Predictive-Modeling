{
 "cells": [
  {
   "cell_type": "markdown",
   "metadata": {},
   "source": [
    "\n",
    "# <p style=\"text-align: center;\">MIS 382N: ADVANCED PREDICTIVE MODELING - MSBA</p>\n",
    "# <p style=\"text-align: center;\">Assignment 1</p>\n",
    "## <p style=\"text-align: center;\">Total points: 80</p>\n",
    "## <p style=\"text-align: center;\">Due: Tuesday, September 18 submitted via Canvas by 11:59 p</p>\n",
    "\n",
    "Your homework should be written in a **Jupyter notebook**. You may work in groups of two if you wish. Only one student per team needs to submit the assignment on Canvas.  But be sure to include name and UTEID for both students.  Homework groups will be created and managed through Canvas, so please do not arbitrarily change your homework group. If you do change, let the TA know. \n",
    "\n",
    "Also, please make sure your code runs and the graphics (and anything else) are displayed in your notebook before submitting. (%matplotlib inline)"
   ]
  },
  {
   "cell_type": "markdown",
   "metadata": {},
   "source": [
    "# Question 1: Challenges in Data Science (10 pts)\n",
    "\n",
    "Refer to the Domino guide under Modules --> Additional Resources\n",
    "\n",
    "Section 2 describes 8 Challenges. You may have personally encountered or heard of somebody else who encountered some of these challenge. If so,  please write 1-2 paragraphs on what situation was encountered and how it mapped into one the mentioned challenges. If not, think of a hypothetical case and do the same exercise. \n",
    "\n",
    "\n",
    "## Answer\n",
    "\n",
    "\n"
   ]
  },
  {
   "cell_type": "markdown",
   "metadata": {},
   "source": [
    "# Question 2: Maximum likelihood estimate (10 pts)\n",
    "\n",
    "Prove the statement on slide 3 of notes on MLR:\n",
    "\"Then minimizing Mean Squared Error (MSE) on the training data (which you can do using OLS) yields the Maximum Likelihood Estimate (MLE) solution of the assumed generative model.\"\n",
    "\n",
    "\n",
    "## Answer"
   ]
  },
  {
   "cell_type": "markdown",
   "metadata": {},
   "source": [
    "Let's say that there are n data points. X is the feature vector, **w** is the weight vector. If the modeling assumptions are correct, the joint distribution of Y given X is given by the below equation\n",
    "\n",
    "\\begin{align*}\n",
    "P(Y|X) = \\frac{1}{\\sqrt{2 \\pi}\\sigma} \\exp^{\\sum_{i = 1}^n -(y_i -  w^T x_i)^2/\\sigma^2}\n",
    "\\end{align*}\n",
    "\n",
    "MLE  selects the predictor coeffiecients **w** in such a way that it maximizes the probability of encountering the observed dataset. Its clear that this probability is maximized if we maximize the exponential term, which is maximized if the maximize the coefficient of the exponent term. Thus we need to maximize the below term : \n",
    "\n",
    "\\begin{align*}\n",
    "max : \\sum_{i = 1}^n -(y_i -  w^T x_i)^2/\\sigma^2\n",
    "\\end{align*}\n",
    "\n",
    "which is same as minimizing \n",
    "\n",
    "\\begin{align*}\n",
    "min : \\sum_{i = 1}^n (y_i -  w^T x_i)^2/\\sigma^2\n",
    "\\end{align*}\n",
    "\n",
    "This final equation (which represents the negative log-likelihood) is proportional to the mean square error which we minimise in OLS."
   ]
  },
  {
   "cell_type": "markdown",
   "metadata": {},
   "source": [
    "# Question 3: Collinearity Issues (5 pts)\n",
    "\n",
    "What is the “collinearity” issue encountered in MLR? Why is this a problem when you try to use MLR?\n",
    "Suggest one way of addressing this problem.\n",
    "\n",
    "\n",
    "## Answer"
   ]
  },
  {
   "cell_type": "markdown",
   "metadata": {},
   "source": [
    "If we can write a variable as linear combination of other variable then we get collinearity problem\n",
    "Exact collinearity : The determinant of matrix of Normal Equations is zero. Can't take inverse and so can't solve for the predictor coefficients.\n",
    "\n",
    "Near collinearity : Even when there is high correlation among variables, the determinant of the Normal Equation would be very close to zero, and the uncertainty in the estimates for the coefficients would be very high.\n",
    "\n",
    "Find out the variables which are causing this issue and drop them. Take PCA, and then do regression in the transformed space."
   ]
  },
  {
   "cell_type": "markdown",
   "metadata": {},
   "source": [
    "# Question 4: Multiple Linear Regression in Python (20 pts)\n",
    "\n",
    "Use the following code to import the allstate-claims-severity dataset and linear models in python. The dataset is taken from https://www.kaggle.com/c/allstate-claims-severity I have removed the categorical variables to make it easire to run the models. Because of this MAE (Mean absolute error) will be on higher end.\n",
    "\n"
   ]
  },
  {
   "cell_type": "code",
   "execution_count": 26,
   "metadata": {},
   "outputs": [],
   "source": [
    "from sklearn import linear_model\n",
    "from sklearn.metrics import mean_absolute_error\n",
    "import numpy as np\n",
    "import pandas as pd\n",
    "\n",
    "train_df = pd.read_csv(\"reduced_train.csv\")\n",
    "\n",
    "X = train_df.drop(['id','loss'],axis=1)\n",
    "Y = train_df['loss']"
   ]
  },
  {
   "cell_type": "markdown",
   "metadata": {},
   "source": [
    "a. (2 pts) Print the shape (number of rows and columns) of the feature matrix X, and print the first 5 rows.\n",
    "\n",
    "b.  (6 pts) Using ordinary least squares, fit a multiple linear regression (MLR) on all the feature variables using the entire dataset. Report the regression coefficient of each input feature and evaluate the model using mean absolute error (MAE).  Example of ordinary least squares in Python is shown in Section 1.1.1 of http://scikit-learn.org/stable/modules/linear_model.html.\n",
    "\n",
    "c.  (6 pts) Split the data into a training set and a test set, using the train_test_split with test_size = 0.30 and random_state = 50. The code for this is given below. Fit an MLR using the training set.  Evaluate the trained model using the training set and the test set, respectively.  Compare the two MAE values thus obtained.\n",
    "\n",
    "d.  (6 pts) Plot the histogram of Y_train and see its distribution. Now take log of Y_train and plot its histogram. Now run regression again after taking log and compare the MAE. You need to do np.exp(predictions) to bring them back to original scale, and then calculate MAE. Explain the results."
   ]
  },
  {
   "cell_type": "markdown",
   "metadata": {},
   "source": [
    "## Answer"
   ]
  },
  {
   "cell_type": "markdown",
   "metadata": {},
   "source": [
    "## (a)"
   ]
  },
  {
   "cell_type": "code",
   "execution_count": 27,
   "metadata": {},
   "outputs": [
    {
     "name": "stdout",
     "output_type": "stream",
     "text": [
      "(188318, 14)\n"
     ]
    }
   ],
   "source": [
    "print(X.shape)"
   ]
  },
  {
   "cell_type": "markdown",
   "metadata": {},
   "source": [
    "## (b)"
   ]
  },
  {
   "cell_type": "code",
   "execution_count": 28,
   "metadata": {},
   "outputs": [
    {
     "name": "stdout",
     "output_type": "stream",
     "text": [
      "Intercept:  1477.3166386687897\n",
      "Coef:  [-2137.11121171  1762.2406163    -56.57968487  -301.1729806\n",
      "    30.03201819  -557.22509919  1707.95520608   298.61240614\n",
      "  2049.37910438  -250.01986129 -1732.34887444  2724.38985824\n",
      "  -631.30128902   273.62600504]\n",
      "MAE:  1950.3606265639835\n"
     ]
    }
   ],
   "source": [
    "clf = linear_model.LinearRegression()\n",
    "clf.fit(X, Y)\n",
    "\n",
    "# print intercept and coefficients\n",
    "print('Intercept: ', clf.intercept_)\n",
    "print('Coef: ', clf.coef_)\n",
    "\n",
    "predictions = clf.predict(X)\n",
    "\n",
    "mae = mean_absolute_error(Y, predictions)\n",
    "print('MAE: ', mae)"
   ]
  },
  {
   "cell_type": "markdown",
   "metadata": {},
   "source": [
    "## (c)"
   ]
  },
  {
   "cell_type": "code",
   "execution_count": 29,
   "metadata": {},
   "outputs": [
    {
     "name": "stdout",
     "output_type": "stream",
     "text": [
      "MAE train:  1946.9866773014621\n",
      "MAE test:  1954.111059596165\n"
     ]
    }
   ],
   "source": [
    "from sklearn.model_selection import train_test_split\n",
    "\n",
    "X_train, X_test, Y_train, Y_test = train_test_split(X,Y,test_size = 0.30, random_state=50)\n",
    "\n",
    "clf_train = linear_model.LinearRegression()\n",
    "clf_train.fit(X_train, Y_train)\n",
    "predictions_train = clf_train.predict(X_train)\n",
    "mae_train = mean_absolute_error(Y_train, predictions_train)\n",
    "print('MAE train: ', mae_train)\n",
    "predictions_test = clf_train.predict(X_test)\n",
    "mae_test = mean_absolute_error(Y_test, predictions_test)\n",
    "print('MAE test: ', mae_test)"
   ]
  },
  {
   "cell_type": "markdown",
   "metadata": {},
   "source": [
    "## (d)"
   ]
  },
  {
   "cell_type": "code",
   "execution_count": 30,
   "metadata": {},
   "outputs": [
    {
     "name": "stderr",
     "output_type": "stream",
     "text": [
      "/Users/aashishkumar/anaconda3/lib/python3.6/site-packages/matplotlib/axes/_axes.py:6462: UserWarning: The 'normed' kwarg is deprecated, and has been replaced by the 'density' kwarg.\n",
      "  warnings.warn(\"The 'normed' kwarg is deprecated, and has been \"\n"
     ]
    },
    {
     "data": {
      "image/png": "[encoded data removed]",
      "text/plain": [
       "<Figure size 432x288 with 1 Axes>"
      ]
     },
     "metadata": {},
     "output_type": "display_data"
    },
    {
     "data": {
      "image/png": "[encoded data removed]",
      "text/plain": [
       "<Figure size 432x288 with 1 Axes>"
      ]
     },
     "metadata": {},
     "output_type": "display_data"
    },
    {
     "name": "stdout",
     "output_type": "stream",
     "text": [
      "MAE train:  1797.4369165421042\n",
      "MAE test:  1810.6519682594767\n"
     ]
    }
   ],
   "source": [
    "import matplotlib.pyplot as plt\n",
    "%matplotlib inline\n",
    "\n",
    "plt.hist(Y_train, 50, normed=1, facecolor='green', alpha=0.75)\n",
    "plt.show()\n",
    "\n",
    "plt.hist(np.log(Y_train), 50, normed=1, facecolor='green', alpha=0.75)\n",
    "plt.show()\n",
    "\n",
    "log_Y_train = np.log(Y_train)\n",
    "\n",
    "clf_train = linear_model.LinearRegression()\n",
    "clf_train.fit(X_train, log_Y_train)\n",
    "predictions_train = clf_train.predict(X_train)\n",
    "predictions_train = np.exp(predictions_train)\n",
    "mae_train = mean_absolute_error(Y_train, predictions_train)\n",
    "print('MAE train: ', mae_train)\n",
    "\n",
    "predictions_test = clf_train.predict(X_test)\n",
    "mae_test = mean_absolute_error(Y_test, np.exp(predictions_test))\n",
    "print('MAE test: ', mae_test)"
   ]
  },
  {
   "cell_type": "markdown",
   "metadata": {},
   "source": [
    "# Question 5: Ridge and Lasso Regression (25 points)\n"
   ]
  },
  {
   "cell_type": "markdown",
   "metadata": {},
   "source": [
    "Using the same data from before, in this question you will explore the application of Lasso and Ridge regression using sklearn package in Python. Split the data into a training set and a test set, using the train_test_split with test_size = 0.30 and random_state = 50. Take log of the Y_train and use it for training. The code for this is given below."
   ]
  },
  {
   "cell_type": "markdown",
   "metadata": {},
   "source": [
    "1) Use sklearn.linear_model.Lasso and sklearn.linear_model.Ridge classes to do a [5-fold cross validation](http://scikit-learn.org/stable/auto_examples/exercises/plot_cv_diabetes.html#example-exercises-plot-cv-diabetes-py) using sklearn's [KFold](http://scikit-learn.org/stable/modules/generated/sklearn.cross_validation.KFold.html). For the sweep of the regularization parameter, we will look at a grid of values ranging from $\\lambda = 10^{10}$ to $\\lambda = 10^{-6}$. In Python, you can consider this range of values as follows:\n",
    "\n",
    "      import numpy as np\n",
    "\n",
    "      alphas =  10**np.linspace(10,-6,100)*0.5\n",
    "\n",
    "  Report the best chosen $\\lambda$ based on cross validation. The cross validation should happen on your training data using  average MAE as the scoring metric. (8pts)\n",
    "\n",
    "2) Run ridge and lasso for all of the alphas specified above (on training data), and plot the coefficients learned for each of them - there should be one plot each for lasso and ridge, so a total of two plots; the plots for different features for a method should be on the same plot. What do you qualitatively observe when value of the regularization parameter is changed? (7pts)\n",
    "\n",
    "3) Run least squares regression, ridge, and lasso on the training data. For ridge and lasso, use only the best regularization parameter. Report the prediction error (MAE) on the test data for each. (5pts)\n",
    "\n",
    "4) Run lasso again with cross validation using [sklearn.linear_model.LassoCV](http://scikit-learn.org/stable/modules/generated/sklearn.linear_model.LassoCV.html). Set the cross validation parameters as follows:\n",
    "\n",
    "    LassoCV(alphas=None, cv=10, max_iter=10000)\n",
    "\n",
    "Report the best $\\lambda$ based on cross validation. Run lasso on the training data using the best $\\lambda$ and report the coefficeints for all variables. (5pts)\n",
    "\n",
    "## Answer\n",
    "\n"
   ]
  },
  {
   "cell_type": "markdown",
   "metadata": {},
   "source": [
    "## 1"
   ]
  },
  {
   "cell_type": "code",
   "execution_count": 31,
   "metadata": {},
   "outputs": [
    {
     "name": "stdout",
     "output_type": "stream",
     "text": [
      "Best lasso alpha: 9.153691401476811e-05\n",
      "Best ridge alpha: 13.5929412136647\n"
     ]
    }
   ],
   "source": [
    "from sklearn.model_selection import train_test_split, KFold\n",
    "from sklearn import preprocessing\n",
    "from sklearn.metrics import mean_squared_error, accuracy_score\n",
    "from sklearn.linear_model import LinearRegression, Lasso, Ridge, LassoCV\n",
    "import matplotlib.pyplot as plt\n",
    "%matplotlib inline\n",
    "\n",
    "X_train, X_test, Y_train, Y_test = train_test_split(X,Y,test_size = 0.30, random_state=50)\n",
    "\n",
    "log_Y_Train = np.log(Y_train)\n",
    "\n",
    "n_folds = 5\n",
    "k_fold = KFold(n_folds)\n",
    "lasso_alphas =  10**np.linspace(10,-6,100)*0.5       #(start at 100, end at -2 )           \n",
    "lasso_avg_mae = {}\n",
    "\n",
    "for alpha in lasso_alphas:\n",
    "    lasso = linear_model.Lasso(alpha=alpha,tol=.1)\n",
    "    avg_mae = 0\n",
    "    for train, test in k_fold.split(X_train):\n",
    "        lasso.fit(X_train.iloc[train], log_Y_Train.iloc[train])\n",
    "        avg_mae = avg_mae + mean_absolute_error(Y_train.iloc[test], np.exp(lasso.predict(X_train.iloc[test]))) \n",
    "    lasso_avg_mae[alpha] = avg_mae / n_folds\n",
    "best_alpha_lasso = min(lasso_avg_mae, key=lasso_avg_mae.get)\n",
    "\n",
    "print(\"Best lasso alpha: {}\".format(best_alpha_lasso))\n",
    "\n",
    "ridge_alphas =  10**np.linspace(10,-6,100)*0.5\n",
    "ridge_avg_mae = {}\n",
    "\n",
    "for alpha in ridge_alphas:\n",
    "    ridge = linear_model.Ridge(alpha=alpha)\n",
    "    avg_mae = 0\n",
    "    for k, (train, test) in enumerate(k_fold.split(X_train)):\n",
    "        ridge.fit(X_train.iloc[train], log_Y_Train.iloc[train])\n",
    "        avg_mae = avg_mae + mean_absolute_error(Y_train.iloc[test], np.exp(ridge.predict(X_train.iloc[test]))) \n",
    "    ridge_avg_mae[alpha] = avg_mae / n_folds\n",
    "best_alpha_ridge = min(ridge_avg_mae, key=ridge_avg_mae.get)\n",
    "\n",
    "print(\"Best ridge alpha: {}\".format(best_alpha_ridge))"
   ]
  },
  {
   "cell_type": "markdown",
   "metadata": {},
   "source": [
    "## 2"
   ]
  },
  {
   "cell_type": "code",
   "execution_count": 32,
   "metadata": {},
   "outputs": [
    {
     "data": {
      "image/png": "[encoded data removed]",
      "text/plain": [
       "<Figure size 432x288 with 1 Axes>"
      ]
     },
     "metadata": {},
     "output_type": "display_data"
    }
   ],
   "source": [
    "alphas = 10**np.linspace(10,-6,100)*0.5\n",
    "\n",
    "ridge = linear_model.Ridge(alpha=alpha)\n",
    "coefs = []\n",
    "\n",
    "for a in alphas:\n",
    "    ridge.set_params(alpha=a)\n",
    "    ridge.fit(X_train, log_Y_Train)\n",
    "    coefs.append(ridge.coef_)\n",
    "\n",
    "ax = plt.gca()\n",
    "ax.plot(alphas, coefs)\n",
    "ax.set_xscale('log')\n",
    "ax.set_xlim(ax.get_xlim()[::-1])  # reverse axis\n",
    "plt.axis('tight')\n",
    "plt.xlabel('alpha')\n",
    "plt.ylabel('weights')\n",
    "plt.title('Ridge coefficients as a function of the regularization');"
   ]
  },
  {
   "cell_type": "code",
   "execution_count": 33,
   "metadata": {},
   "outputs": [
    {
     "data": {
      "image/png": "[encoded data removed]",
      "text/plain": [
       "<Figure size 432x288 with 1 Axes>"
      ]
     },
     "metadata": {},
     "output_type": "display_data"
    }
   ],
   "source": [
    "alphas = 10**np.linspace(10,-6,100)*0.5           #start at 10 stop at -2 giv 100 numbers\n",
    "\n",
    "lasso = linear_model.Lasso(alpha=alpha,tol=.1)\n",
    "coefs = []\n",
    "\n",
    "for a in alphas:\n",
    "    lasso.set_params(alpha=a,tol=.1)\n",
    "    lasso.fit(X_train, log_Y_Train)\n",
    "    coefs.append(lasso.coef_)\n",
    "\n",
    "ax = plt.gca()\n",
    "ax.plot(alphas, coefs)\n",
    "ax.set_xscale('log')\n",
    "ax.set_xlim(ax.get_xlim()[::-1])  # reverse axis\n",
    "plt.axis('tight')\n",
    "plt.xlabel('alpha')\n",
    "plt.ylabel('weights')\n",
    "plt.title('Lasso coefficients as a function of the regularization');"
   ]
  },
  {
   "cell_type": "markdown",
   "metadata": {},
   "source": [
    "## 3"
   ]
  },
  {
   "cell_type": "code",
   "execution_count": 34,
   "metadata": {},
   "outputs": [
    {
     "name": "stdout",
     "output_type": "stream",
     "text": [
      "MSE for linear: 1810.6519682594767\n",
      "MSE for ridge: 1810.6310418084493\n",
      "MSE for lasso: 1810.6856987036242\n"
     ]
    }
   ],
   "source": [
    "linear_clf = linear_model.LinearRegression()\n",
    "ridge_clf = linear_model.Ridge(alpha=best_alpha_ridge)\n",
    "lasso_clf = linear_model.Lasso(alpha=best_alpha_lasso,tol=.1)#, max_iter=100000)#,tol=1)\n",
    "\n",
    "def fit_reg(model, name):\n",
    "    model.fit(X_train, log_Y_Train)\n",
    "    pred = model.predict(X_test)\n",
    "    mse = mean_absolute_error(np.exp(pred), Y_test)\n",
    "    print(\"MSE for {0}: {1}\".format(name, mse))\n",
    "\n",
    "fit_reg(linear_clf, \"linear\")\n",
    "fit_reg(ridge_clf, \"ridge\")\n",
    "fit_reg(lasso_clf, \"lasso\")"
   ]
  },
  {
   "cell_type": "markdown",
   "metadata": {},
   "source": [
    "## 4"
   ]
  },
  {
   "cell_type": "code",
   "execution_count": 35,
   "metadata": {},
   "outputs": [
    {
     "data": {
      "text/plain": [
       "LassoCV(alphas=None, copy_X=True, cv=10, eps=0.001, fit_intercept=True,\n",
       "    max_iter=100000, n_alphas=100, n_jobs=1, normalize=False,\n",
       "    positive=False, precompute='auto', random_state=None,\n",
       "    selection='cyclic', tol=0.0001, verbose=False)"
      ]
     },
     "execution_count": 35,
     "metadata": {},
     "output_type": "execute_result"
    }
   ],
   "source": [
    "lassocv = LassoCV(alphas=None, cv=10, max_iter=100000)\n",
    "lassocv.fit(X_train, log_Y_Train)"
   ]
  },
  {
   "cell_type": "code",
   "execution_count": 36,
   "metadata": {},
   "outputs": [
    {
     "data": {
      "text/plain": [
       "1810.6388748733277"
      ]
     },
     "execution_count": 36,
     "metadata": {},
     "output_type": "execute_result"
    }
   ],
   "source": [
    "lasso.set_params(alpha=lassocv.alpha_)\n",
    "lasso.fit(X_train, log_Y_Train)\n",
    "mean_absolute_error(Y_test, np.exp(lasso.predict(X_test)))"
   ]
  },
  {
   "cell_type": "code",
   "execution_count": 37,
   "metadata": {},
   "outputs": [
    {
     "data": {
      "text/plain": [
       "1.742378003185893e-05"
      ]
     },
     "execution_count": 37,
     "metadata": {},
     "output_type": "execute_result"
    }
   ],
   "source": [
    "lassocv.alpha_"
   ]
  },
  {
   "cell_type": "code",
   "execution_count": 38,
   "metadata": {},
   "outputs": [
    {
     "data": {
      "text/plain": [
       "array([-0.51711081,  0.35670005,  0.01228378, -0.08093894, -0.00933405,\n",
       "       -0.0684882 ,  0.30543654,  0.08876903,  0.57270395, -0.16887018,\n",
       "       -0.32254525,  0.52348019, -0.09978342,  0.09439036])"
      ]
     },
     "execution_count": 38,
     "metadata": {},
     "output_type": "execute_result"
    }
   ],
   "source": [
    "lasso.coef_"
   ]
  },
  {
   "cell_type": "markdown",
   "metadata": {},
   "source": [
    "# Question 6 (10pts)\n",
    "\n",
    "Please solve problem \\#3.3 on page 174 in Bishop (Chapter 3). The problem has been uploaded to Canvas under 'Files': **CH3 problems from Bishop PRML.pdf**.\n",
    "\n",
    "## Answer"
   ]
  },
  {
   "cell_type": "markdown",
   "metadata": {},
   "source": [
    "\\begin{equation}\n",
    "\\textbf{w}^{*} = \\min_{w}{\\frac{1}{2}\\sum_{n = 1}^Nr_n\\{t_n - \\textbf{w}^\\textrm{T}\\phi(x_n)\\}^2}\n",
    "\\end{equation}\n",
    "\n",
    "Take the derivative and set equal to 0:\n",
    "\\begin{align*}\n",
    "\\frac{\\partial \\textrm{E}_\\textrm{D}(\\textbf{w})}{\\partial \\textbf{w}} &= \\\n",
    "\\sum_{n = 1}^Nr_n\\{t_n - \\textbf{w}^\\textrm{T}\\phi(x_n)\\}(-\\phi(x_n)) \\\\\n",
    "&= -\\sum_{n = 1}^Nr_n\\{t_n - \\textbf{w}^\\textrm{T}\\phi(x_n)\\}\\phi(x_n) \\\\\n",
    "&= -\\sum_{n = 1}^Nr_nt_n\\phi(x_n) + \\sum_{n = 1}^Nr_n\\textbf{w}^\\textrm{T}\\phi(x_n)\\phi(x_n)^{\\textrm{T}} = 0\n",
    "\\end{align*}\n",
    "\n",
    "Solving for $\\textbf{w}$:\n",
    "\\begin{equation}\n",
    "\\textbf{w}^{*} = \\bigg(\\sum_{n = 1}^Nr_n\\textbf{w}^\\textrm{T}\\phi(x_n)\\phi(x_n)^{\\textrm{T}}\\bigg)^{-1}\\bigg(\\sum_{n = 1}^Nr_nt_n\\phi(x_n)\\bigg)\n",
    "\\end{equation}\n",
    "\n",
    "\n",
    "**An alternative approach, using vectorized notation:**\n",
    "\n",
    "\n",
    "Let there be N data points. And M features per data point.\n",
    "\n",
    "Let us denote the variable we are predicting with **T** which is Nx1 dimensional matrix.\n",
    "\n",
    "The coefficient matrix is denoted by **w** which is MX1 in dimensions. \n",
    "\n",
    "Let us denote these weigths r by a diagonal matrix **R** which is of NxN dimension. For example for 3 data points it would look like\n",
    "\n",
    "\\begin{align*}\n",
    "R = \n",
    "\\begin{bmatrix}\n",
    "r1&0&0\\\\\n",
    "0&r2&0\\\\\n",
    "0&0&r3\\\\\n",
    "\\end{bmatrix}\n",
    "\\end{align*}\n",
    "\n",
    "So, we can write the sum of squares function as\n",
    "\n",
    "\\begin{align*}\n",
    "min : (T - \\phi w)^T R(T-\\phi w)\n",
    "\\end{align*}\n",
    "\n",
    "We can write these equations as :\n",
    "\n",
    "\\begin{align*}\n",
    "min : T^T RT - T^T R\\phi w - w^T \\phi ^T RT + w^T \\phi ^T R\\phi w\n",
    "\\end{align*}\n",
    "\n",
    "Differentiate it w.r.t **w** matrix, we get\n",
    "\n",
    "\\begin{align*}\n",
    "-2\\phi ^T RT + 2\\phi ^T R\\phi w = 0 \\\\\n",
    "w = (\\phi ^T R\\phi)^{-1} \\phi ^T RT\n",
    "\\end{align*}\n",
    "\n",
    "Interpretation : \n",
    "(i) Our assumption is that the errors have constant variance. But if it not true, and error varies with each data point then we can use this scaling factor to make the variance constant. For example, we can set this scaling factor as \n",
    "\n",
    "\\begin{align*}\n",
    "r_i = \\frac{1}{\\sigma_i^2} \n",
    "\\end{align*}\n",
    "\n",
    "If we use this scaling factor, then the variance of each error will become 1, and thus all of them will have same variance."
   ]
  },
  {
   "cell_type": "markdown",
   "metadata": {},
   "source": [
    "Detailed Explanation\n",
    "\n",
    "(i) If the output is modeled as $t_n = \\textbf{w}^{\\textrm{T}}\\phi(x_n) + \\nu_n$, where the noise $\\nu_n \\sim \\mathcal{N}(0,\\,\\sigma_{n}^{2})$, then minimizing $\\textrm{E}_\\textrm{D}(\\textbf{w})$ is the same as minimizing the log-likelihood of the output if noise variance $\\sigma_n^2 = \\frac{1}{r_n}$ or $\\sigma_n^2 = \\frac{1}{2r_n}$.\n",
    "\n",
    "Consider the Gaussian pdf:\n",
    "\\begin{equation}\n",
    "p(t_n) = \\prod_{i = 1}^N \\frac{1}{\\sqrt{2\\pi\\sigma_n^2}}\\exp{-\\bigg\\{\\frac{(t_n-\\textbf{w}^{\\textrm{T}}\\phi(x_n))^2}{2\\sigma_n^2}\\bigg\\}}\n",
    "\\end{equation}\n",
    "\n",
    "If we take the log likelihood, we get\n",
    "\\begin{equation}\n",
    "\\frac{1}{2}\\textrm{N}\\log(2\\pi\\sigma_n^2) - \\sum_{n=1}^N\\frac{(t_n-\\textbf{w}^{\\textrm{T}}\\phi(x_n))^2}{2\\sigma_n^2},\n",
    "\\end{equation}\n",
    "and if we take the derivative w.r.t. $\\textbf{w}$, the first term falls out, and we are left with our objective function if $\\sigma_n^2 = \\frac{1}{r_n}$ or $\\sigma_n^2 = \\frac{1}{2r_n}$."
   ]
  },
  {
   "cell_type": "markdown",
   "metadata": {},
   "source": [
    "(ii) If we consider $r_n$ as representing the number of duplicates of the n-th data point, then when we derive the squared error function, each squared sample error $\\{t_n - \\textbf{w}^\\textrm{T}\\phi(x_n)\\}^2$ is added $r_n$ times, so $r_n$ is effectively a multiplicative factor, and the obective is still to solve:\n",
    "\\begin{equation}\n",
    "\\textbf{w}^{*} = \\min_{w}{\\frac{1}{2}\\sum_{n = 1}^Nr_n\\{t_n - \\textbf{w}^\\textrm{T}\\phi(x_n)\\}^2}\n",
    "\\end{equation}\n",
    "or\n",
    "\\begin{equation}\n",
    "\\textbf{w}^{*} = \\min_{w}{\\sum_{n = 1}^Nr_n\\{t_n - \\textbf{w}^\\textrm{T}\\phi(x_n)\\}^2}\n",
    "\\end{equation}"
   ]
  },
  {
   "cell_type": "code",
   "execution_count": null,
   "metadata": {},
   "outputs": [],
   "source": []
  }
 ],
 "metadata": {
  "anaconda-cloud": {},
  "kernelspec": {
   "display_name": "Python 3",
   "language": "python",
   "name": "python3"
  },
  "language_info": {
   "codemirror_mode": {
    "name": "ipython",
    "version": 3
   },
   "file_extension": ".py",
   "mimetype": "text/x-python",
   "name": "python",
   "nbconvert_exporter": "python",
   "pygments_lexer": "ipython3",
   "version": "3.6.5"
  }
 },
 "nbformat": 4,
 "nbformat_minor": 1
}
